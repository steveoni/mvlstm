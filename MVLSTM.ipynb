{
  "nbformat": 4,
  "nbformat_minor": 0,
  "metadata": {
    "colab": {
      "name": "MVLSTM",
      "provenance": [],
      "collapsed_sections": []
    },
    "kernelspec": {
      "name": "python3",
      "display_name": "Python 3"
    },
    "accelerator": "GPU"
  },
  "cells": [
    {
      "cell_type": "code",
      "metadata": {
        "id": "2YpFbN0q80sN",
        "colab_type": "code",
        "outputId": "6f41d994-1b73-4d67-85ba-af255ac0c28f",
        "colab": {
          "base_uri": "https://localhost:8080/",
          "height": 67
        }
      },
      "source": [
        "!curl \"https://storage.googleapis.com/kagglesdsdata/competitions/6277/323734/train.csv.zip?GoogleAccessId=web-data@kaggle-161607.iam.gserviceaccount.com&Expires=1586094727&Signature=QqJTGqDDnLO5fFXc74BxM5Txqh3njzGWrlJsh\"%\"2FlBFAeqIrjcq9LtrbkPx2zsoGkIQfZp56ffDGuJ\"%\"2BvAUYri\"%\"2FhZ3zyEYjBN67xiOAV\"%\"2FY3Y2l8Qfufhu0HC1MdNivKXavBwBL9lqJmVwfNc\"%\"2F5e94x7e\"%\"2FgYflVlNv5ndFwyNoflt5z5sa\"%\"2FDp\"%\"2FDpNpuyv38zT985jt5yMUD9VotwApx4EHtldPprE7qQnyMmGNtqUEM39bw4043ViMn\"%\"2BPT79XMLlukXYt\"%\"2FpC\"%\"2FjTURdaYA6eEBnIG5\"%\"2FPGLNFG\"%\"2BbkStGx71ZwkQ7n3iGzLKFLofldHYgGIfTpOkZnRj\"%\"2FN8GCaEQvesX566Zw\"%\"3D\"%\"3D&response-content-disposition=attachment\"%\"3B+filename\"%\"3Dtrain.csv.zip\" -H \"User-Agent: Mozilla/5.0 (Windows NT 10.0; Win64; x64; rv:74.0) Gecko/20100101 Firefox/74.0\" -H \"Accept: text/html,application/xhtml+xml,application/xml;q=0.9,image/webp,*/*;q=0.8\" -H \"Accept-Language: en-US,en;q=0.5\" --compressed -H \"Referer: https://www.kaggle.com/\" -H \"Connection: keep-alive\" -H \"Upgrade-Insecure-Requests: 1\" -o train.csv.zip"
      ],
      "execution_count": 0,
      "outputs": [
        {
          "output_type": "stream",
          "text": [
            "  % Total    % Received % Xferd  Average Speed   Time    Time     Time  Current\n",
            "                                 Dload  Upload   Total   Spent    Left  Speed\n",
            "\r  0     0    0     0    0     0      0      0 --:--:-- --:--:-- --:--:--     0\r  0     0    0     0    0     0      0      0 --:--:-- --:--:-- --:--:--     0\r100 21.1M  100 21.1M    0     0  22.8M      0 --:--:-- --:--:-- --:--:-- 22.8M\n"
          ],
          "name": "stdout"
        }
      ]
    },
    {
      "cell_type": "code",
      "metadata": {
        "id": "QQUgU_Ck9auZ",
        "colab_type": "code",
        "outputId": "cff96563-e945-451d-98e4-d56768128f16",
        "colab": {
          "base_uri": "https://localhost:8080/",
          "height": 50
        }
      },
      "source": [
        "!unzip train.csv.zip"
      ],
      "execution_count": 0,
      "outputs": [
        {
          "output_type": "stream",
          "text": [
            "Archive:  train.csv.zip\n",
            "  inflating: train.csv               \n"
          ],
          "name": "stdout"
        }
      ]
    },
    {
      "cell_type": "code",
      "metadata": {
        "id": "by02jd519hdS",
        "colab_type": "code",
        "colab": {}
      },
      "source": [
        "import pandas as pd\n",
        "from nltk.corpus import stopwords\n",
        "from nltk.stem import SnowballStemmer\n",
        "from string import punctuation\n",
        "import re\n",
        "import csv\n",
        "import codecs"
      ],
      "execution_count": 0,
      "outputs": []
    },
    {
      "cell_type": "code",
      "metadata": {
        "id": "dgR8LgIM9nBR",
        "colab_type": "code",
        "colab": {}
      },
      "source": [
        "df  = pd.read_csv(\"train.csv\")"
      ],
      "execution_count": 0,
      "outputs": []
    },
    {
      "cell_type": "code",
      "metadata": {
        "id": "NTAbvlp_9tt3",
        "colab_type": "code",
        "outputId": "d1948b14-fcc2-4ee5-d834-98d15b88b419",
        "colab": {
          "base_uri": "https://localhost:8080/",
          "height": 195
        }
      },
      "source": [
        "df.tail()"
      ],
      "execution_count": 0,
      "outputs": [
        {
          "output_type": "execute_result",
          "data": {
            "text/html": [
              "<div>\n",
              "<style scoped>\n",
              "    .dataframe tbody tr th:only-of-type {\n",
              "        vertical-align: middle;\n",
              "    }\n",
              "\n",
              "    .dataframe tbody tr th {\n",
              "        vertical-align: top;\n",
              "    }\n",
              "\n",
              "    .dataframe thead th {\n",
              "        text-align: right;\n",
              "    }\n",
              "</style>\n",
              "<table border=\"1\" class=\"dataframe\">\n",
              "  <thead>\n",
              "    <tr style=\"text-align: right;\">\n",
              "      <th></th>\n",
              "      <th>id</th>\n",
              "      <th>qid1</th>\n",
              "      <th>qid2</th>\n",
              "      <th>question1</th>\n",
              "      <th>question2</th>\n",
              "      <th>is_duplicate</th>\n",
              "    </tr>\n",
              "  </thead>\n",
              "  <tbody>\n",
              "    <tr>\n",
              "      <th>404285</th>\n",
              "      <td>404285</td>\n",
              "      <td>433578</td>\n",
              "      <td>379845</td>\n",
              "      <td>How many keywords are there in the Racket prog...</td>\n",
              "      <td>How many keywords are there in PERL Programmin...</td>\n",
              "      <td>0</td>\n",
              "    </tr>\n",
              "    <tr>\n",
              "      <th>404286</th>\n",
              "      <td>404286</td>\n",
              "      <td>18840</td>\n",
              "      <td>155606</td>\n",
              "      <td>Do you believe there is life after death?</td>\n",
              "      <td>Is it true that there is life after death?</td>\n",
              "      <td>1</td>\n",
              "    </tr>\n",
              "    <tr>\n",
              "      <th>404287</th>\n",
              "      <td>404287</td>\n",
              "      <td>537928</td>\n",
              "      <td>537929</td>\n",
              "      <td>What is one coin?</td>\n",
              "      <td>What's this coin?</td>\n",
              "      <td>0</td>\n",
              "    </tr>\n",
              "    <tr>\n",
              "      <th>404288</th>\n",
              "      <td>404288</td>\n",
              "      <td>537930</td>\n",
              "      <td>537931</td>\n",
              "      <td>What is the approx annual cost of living while...</td>\n",
              "      <td>I am having little hairfall problem but I want...</td>\n",
              "      <td>0</td>\n",
              "    </tr>\n",
              "    <tr>\n",
              "      <th>404289</th>\n",
              "      <td>404289</td>\n",
              "      <td>537932</td>\n",
              "      <td>537933</td>\n",
              "      <td>What is like to have sex with cousin?</td>\n",
              "      <td>What is it like to have sex with your cousin?</td>\n",
              "      <td>0</td>\n",
              "    </tr>\n",
              "  </tbody>\n",
              "</table>\n",
              "</div>"
            ],
            "text/plain": [
              "            id  ...  is_duplicate\n",
              "404285  404285  ...             0\n",
              "404286  404286  ...             1\n",
              "404287  404287  ...             0\n",
              "404288  404288  ...             0\n",
              "404289  404289  ...             0\n",
              "\n",
              "[5 rows x 6 columns]"
            ]
          },
          "metadata": {
            "tags": []
          },
          "execution_count": 5
        }
      ]
    },
    {
      "cell_type": "code",
      "metadata": {
        "id": "Sxevjnx49xbq",
        "colab_type": "code",
        "colab": {}
      },
      "source": [
        "new_df = df.iloc[:2000, :]"
      ],
      "execution_count": 0,
      "outputs": []
    },
    {
      "cell_type": "code",
      "metadata": {
        "id": "jBkK_bMhRcDO",
        "colab_type": "code",
        "colab": {}
      },
      "source": [
        "from torch.utils.data import DataLoader, SequentialSampler, RandomSampler, Dataset"
      ],
      "execution_count": 0,
      "outputs": []
    },
    {
      "cell_type": "code",
      "metadata": {
        "id": "jPVxN4d9gN5u",
        "colab_type": "code",
        "colab": {}
      },
      "source": [
        "import unicodedata\n",
        "import string\n",
        "import numpy as np"
      ],
      "execution_count": 0,
      "outputs": []
    },
    {
      "cell_type": "code",
      "metadata": {
        "id": "imy2vKH7h0K_",
        "colab_type": "code",
        "colab": {}
      },
      "source": [
        "# pytorch tutorial\n",
        "class Word:\n",
        "\n",
        "  def __init__(self):\n",
        "\n",
        "    self.word2index = {'<blank>':0}\n",
        "    self.word2count = {}\n",
        "    self.index2word = {0:'<blank>'}\n",
        "    self.n_words = 1\n",
        "\n",
        "  def addSentence(self, sentence):\n",
        "    for word in sentence.split(' '):\n",
        "      self.addWord(word)\n",
        "\n",
        "  def addWord(self, word):\n",
        "    if word not in self.word2index:\n",
        "      \n",
        "      self.word2index[word] = self.n_words\n",
        "      self.word2count[word] = 1\n",
        "      self.index2word[self.n_words] = word\n",
        "      self.n_words +=1\n",
        "\n",
        "    else:\n",
        "      self.word2count[word] += 1"
      ],
      "execution_count": 0,
      "outputs": []
    },
    {
      "cell_type": "code",
      "metadata": {
        "id": "0kCavYqZjYg-",
        "colab_type": "code",
        "colab": {}
      },
      "source": [
        "word = Word()"
      ],
      "execution_count": 0,
      "outputs": []
    },
    {
      "cell_type": "code",
      "metadata": {
        "id": "094xM10ajb6z",
        "colab_type": "code",
        "colab": {}
      },
      "source": [
        "d = new_df[\"question1\"][:20]"
      ],
      "execution_count": 0,
      "outputs": []
    },
    {
      "cell_type": "code",
      "metadata": {
        "id": "75UAqjYtmEd_",
        "colab_type": "code",
        "outputId": "4cdf675a-04bf-4f53-d9e5-33d35d680609",
        "colab": {
          "base_uri": "https://localhost:8080/",
          "height": 34
        }
      },
      "source": [
        "d[9]"
      ],
      "execution_count": 0,
      "outputs": [
        {
          "output_type": "execute_result",
          "data": {
            "text/plain": [
              "'Motorola (company): Can I hack my Charter Motorolla DCX3400?'"
            ]
          },
          "metadata": {
            "tags": []
          },
          "execution_count": 14
        }
      ]
    },
    {
      "cell_type": "code",
      "metadata": {
        "id": "UcyIi26GmGvJ",
        "colab_type": "code",
        "colab": {}
      },
      "source": [
        "# https://www.kaggle.com/currie32/quora-question-pairs/the-importance-of-cleaning-text\n",
        "def text_to_wordlist(text, remove_stopwords=False, stem_words=False):\n",
        "    # Clean the text, with the option to remove stopwords and to stem words.\n",
        "    \n",
        "    # Convert words to lower case and split them\n",
        "    text = text.lower().split()\n",
        "\n",
        "    # Optionally, remove stop words\n",
        "    if remove_stopwords:\n",
        "        stops = set(stopwords.words(\"english\"))\n",
        "        text = [w for w in text if not w in stops]\n",
        "    \n",
        "    text = \" \".join(text)\n",
        "\n",
        "    # Clean the text\n",
        "    text = re.sub(r\"[^A-Za-z0-9^,!.\\/'+-=]\", \" \", text)\n",
        "    text = re.sub(r\"what's\", \"what is \", text)\n",
        "    text = re.sub(r\"\\'s\", \" \", text)\n",
        "    text = re.sub(r\"\\'ve\", \" have \", text)\n",
        "    text = re.sub(r\"can't\", \"cannot \", text)\n",
        "    text = re.sub(r\"n't\", \" not \", text)\n",
        "    text = re.sub(r\"i'm\", \"i am \", text)\n",
        "    text = re.sub(r\"\\'re\", \" are \", text)\n",
        "    text = re.sub(r\"\\'d\", \" would \", text)\n",
        "    text = re.sub(r\"\\'ll\", \" will \", text)\n",
        "    text = re.sub(r\",\", \" \", text)\n",
        "    text = re.sub(r\"\\.\", \" \", text)\n",
        "    text = re.sub(r\"!\", \" ! \", text)\n",
        "    text = re.sub(r\"\\/\", \" \", text)\n",
        "    text = re.sub(r\"\\^\", \" ^ \", text)\n",
        "    text = re.sub(r\"\\+\", \" + \", text)\n",
        "    text = re.sub(r\"\\-\", \" - \", text)\n",
        "    text = re.sub(r\"\\=\", \" = \", text)\n",
        "    text = re.sub(r\"'\", \" \", text)\n",
        "    text = re.sub(r\"(\\d+)(k)\", r\"\\g<1>000\", text)\n",
        "    text = re.sub(r\":\", \" : \", text)\n",
        "    text = re.sub(r\" e g \", \" eg \", text)\n",
        "    text = re.sub(r\" b g \", \" bg \", text)\n",
        "    text = re.sub(r\" u s \", \" american \", text)\n",
        "    text = re.sub(r\"\\0s\", \"0\", text)\n",
        "    text = re.sub(r\" 9 11 \", \"911\", text)\n",
        "    text = re.sub(r\"e - mail\", \"email\", text)\n",
        "    text = re.sub(r\"j k\", \"jk\", text)\n",
        "    text = re.sub(r\"\\s{2,}\", \" \", text)\n",
        "    \n",
        "    # Optionally, shorten words to their stems\n",
        "    if stem_words:\n",
        "        text = text.split()\n",
        "        stemmer = SnowballStemmer('english')\n",
        "        stemmed_words = [stemmer.stem(word) for word in text]\n",
        "        text = \" \".join(stemmed_words)\n",
        "    \n",
        "    # Return a list of words\n",
        "    return(text)"
      ],
      "execution_count": 0,
      "outputs": []
    },
    {
      "cell_type": "code",
      "metadata": {
        "id": "u0_wjsHSnSvm",
        "colab_type": "code",
        "outputId": "f83bfe9f-ed46-43c9-958a-c75f34f83eb9",
        "colab": {
          "base_uri": "https://localhost:8080/",
          "height": 34
        }
      },
      "source": [
        "text_to_wordlist(d[9])"
      ],
      "execution_count": 0,
      "outputs": [
        {
          "output_type": "execute_result",
          "data": {
            "text/plain": [
              "'motorola company : can i hack my charter motorolla dcx3400 '"
            ]
          },
          "metadata": {
            "tags": []
          },
          "execution_count": 16
        }
      ]
    },
    {
      "cell_type": "code",
      "metadata": {
        "id": "POaIxGAkncvu",
        "colab_type": "code",
        "colab": {}
      },
      "source": [
        "concat_q1q1 = pd.concat([new_df['question1'],new_df['question2']],0)"
      ],
      "execution_count": 0,
      "outputs": []
    },
    {
      "cell_type": "code",
      "metadata": {
        "id": "k71nuVXFoQE7",
        "colab_type": "code",
        "colab": {}
      },
      "source": [
        "clean_text = list(map(lambda x: text_to_wordlist(x),concat_q1q1.to_list()))"
      ],
      "execution_count": 0,
      "outputs": []
    },
    {
      "cell_type": "markdown",
      "metadata": {
        "id": "rZ0TMA3SqRgN",
        "colab_type": "text"
      },
      "source": [
        "BUild word lang from the clean text"
      ]
    },
    {
      "cell_type": "code",
      "metadata": {
        "id": "9_-ZwQj7oh9P",
        "colab_type": "code",
        "colab": {}
      },
      "source": [
        "word = Word()"
      ],
      "execution_count": 0,
      "outputs": []
    },
    {
      "cell_type": "code",
      "metadata": {
        "id": "X9cDxL1opJNs",
        "colab_type": "code",
        "colab": {}
      },
      "source": [
        "for text in clean_text:\n",
        "  word.addSentence(text)"
      ],
      "execution_count": 0,
      "outputs": []
    },
    {
      "cell_type": "code",
      "metadata": {
        "id": "_CwsKUMysl-F",
        "colab_type": "code",
        "colab": {}
      },
      "source": [
        "def tokenize(lang,sentence):\n",
        "    return [lang.word2index[word] for word in sentence.split(' ')]"
      ],
      "execution_count": 0,
      "outputs": []
    },
    {
      "cell_type": "code",
      "metadata": {
        "id": "5XUkRAk6tKk3",
        "colab_type": "code",
        "colab": {}
      },
      "source": [
        "question_tok = list(map(lambda x: tokenize(word,x), clean_text))"
      ],
      "execution_count": 0,
      "outputs": []
    },
    {
      "cell_type": "code",
      "metadata": {
        "id": "hmql-5DGteih",
        "colab_type": "code",
        "outputId": "e08a9e63-0fef-4555-d2da-6b7055b3c8d2",
        "colab": {
          "base_uri": "https://localhost:8080/",
          "height": 34
        }
      },
      "source": [
        "question_tok[700]"
      ],
      "execution_count": 0,
      "outputs": [
        {
          "output_type": "execute_result",
          "data": {
            "text/plain": [
              "[22, 71, 72, 1040, 31, 150, 1042, 131, 2259, 2260, 13]"
            ]
          },
          "metadata": {
            "tags": []
          },
          "execution_count": 23
        }
      ]
    },
    {
      "cell_type": "code",
      "metadata": {
        "id": "Gbi7zcPotg6q",
        "colab_type": "code",
        "colab": {}
      },
      "source": [
        "list_len = list(map(lambda x: len(x), question_tok))"
      ],
      "execution_count": 0,
      "outputs": []
    },
    {
      "cell_type": "code",
      "metadata": {
        "id": "Ien01ek_t5Vc",
        "colab_type": "code",
        "colab": {}
      },
      "source": [
        "MAX_LENGTH = np.array(list_len).max()"
      ],
      "execution_count": 0,
      "outputs": []
    },
    {
      "cell_type": "code",
      "metadata": {
        "id": "vBp5RNBkt6dV",
        "colab_type": "code",
        "outputId": "8c19e722-81ab-4082-b2dc-8a2e33075784",
        "colab": {
          "base_uri": "https://localhost:8080/",
          "height": 34
        }
      },
      "source": [
        "MAX_LENGTH"
      ],
      "execution_count": 0,
      "outputs": [
        {
          "output_type": "execute_result",
          "data": {
            "text/plain": [
              "68"
            ]
          },
          "metadata": {
            "tags": []
          },
          "execution_count": 26
        }
      ]
    },
    {
      "cell_type": "markdown",
      "metadata": {
        "id": "w393CCZtuQSq",
        "colab_type": "text"
      },
      "source": [
        "PAD with Zero"
      ]
    },
    {
      "cell_type": "code",
      "metadata": {
        "id": "mzd8a1UXuJ10",
        "colab_type": "code",
        "colab": {}
      },
      "source": [
        "pad_text = np.zeros((len(question_tok), MAX_LENGTH))"
      ],
      "execution_count": 0,
      "outputs": []
    },
    {
      "cell_type": "code",
      "metadata": {
        "id": "lH7ZOZsUujlP",
        "colab_type": "code",
        "colab": {}
      },
      "source": [
        "for i,v in enumerate(question_tok):\n",
        "\n",
        "  for j, token in enumerate(v):\n",
        "    \n",
        "    pad_text[i,j] = token"
      ],
      "execution_count": 0,
      "outputs": []
    },
    {
      "cell_type": "code",
      "metadata": {
        "id": "n8Ke4bVRu_YH",
        "colab_type": "code",
        "colab": {}
      },
      "source": [
        "ques1 = pad_text[:2000]\n",
        "ques2 = pad_text[2000:]"
      ],
      "execution_count": 0,
      "outputs": []
    },
    {
      "cell_type": "code",
      "metadata": {
        "id": "HzFnWWwbx8Qo",
        "colab_type": "code",
        "colab": {}
      },
      "source": [
        "import torch"
      ],
      "execution_count": 0,
      "outputs": []
    },
    {
      "cell_type": "code",
      "metadata": {
        "id": "Be_pYmG4vVmO",
        "colab_type": "code",
        "colab": {}
      },
      "source": [
        "class Ques(Dataset):\n",
        "\n",
        "  def __init__(self,q1, q2, label,**init_kwargs):\n",
        "\n",
        "    self.q1 = torch.from_numpy(q1).long()\n",
        "    self.q2 = torch.from_numpy(q2).long()\n",
        "    self.label = torch.Tensor(label.to_list()).float()\n",
        "\n",
        "  def __len__(self):\n",
        "    return len(self.label)\n",
        "\n",
        "  def __getitem__(self, idx):\n",
        "    x1 = self.q1[idx]\n",
        "    x2 = self.q2[idx]\n",
        "    label = self.label[idx]\n",
        "\n",
        "    return (x1, x2), label"
      ],
      "execution_count": 0,
      "outputs": []
    },
    {
      "cell_type": "code",
      "metadata": {
        "id": "yE4cRcUQv1y6",
        "colab_type": "code",
        "colab": {}
      },
      "source": [
        "ques = Ques(ques1, ques2,new_df['is_duplicate'])"
      ],
      "execution_count": 0,
      "outputs": []
    },
    {
      "cell_type": "code",
      "metadata": {
        "id": "GdB3pTJUx6Ag",
        "colab_type": "code",
        "outputId": "4023cdb3-744a-446a-922e-e14c5d2b875e",
        "colab": {
          "base_uri": "https://localhost:8080/",
          "height": 218
        }
      },
      "source": [
        "ques[100]"
      ],
      "execution_count": 0,
      "outputs": [
        {
          "output_type": "execute_result",
          "data": {
            "text/plain": [
              "((tensor([222, 543, 544,  67, 465, 545, 293,  12,  48, 546, 547,   3, 548, 549,\n",
              "            1, 222,  67, 299, 482,  13,   0,   0,   0,   0,   0,   0,   0,   0,\n",
              "            0,   0,   0,   0,   0,   0,   0,   0,   0,   0,   0,   0,   0,   0,\n",
              "            0,   0,   0,   0,   0,   0,   0,   0,   0,   0,   0,   0,   0,   0,\n",
              "            0,   0,   0,   0,   0,   0,   0,   0,   0,   0,   0,   0]),\n",
              "  tensor([ 222,  543,   67,   31, 3965,  545,  293,   12,   48,  546,   13,    0,\n",
              "             0,    0,    0,    0,    0,    0,    0,    0,    0,    0,    0,    0,\n",
              "             0,    0,    0,    0,    0,    0,    0,    0,    0,    0,    0,    0,\n",
              "             0,    0,    0,    0,    0,    0,    0,    0,    0,    0,    0,    0,\n",
              "             0,    0,    0,    0,    0,    0,    0,    0,    0,    0,    0,    0,\n",
              "             0,    0,    0,    0,    0,    0,    0,    0])),\n",
              " tensor(1.))"
            ]
          },
          "metadata": {
            "tags": []
          },
          "execution_count": 33
        }
      ]
    },
    {
      "cell_type": "code",
      "metadata": {
        "id": "bh9w862oyNMc",
        "colab_type": "code",
        "colab": {}
      },
      "source": [
        "from torch.utils.data.sampler import SubsetRandomSampler"
      ],
      "execution_count": 0,
      "outputs": []
    },
    {
      "cell_type": "code",
      "metadata": {
        "id": "zNlpSfrl2rPF",
        "colab_type": "code",
        "colab": {}
      },
      "source": [
        "valid_sz = 0.1"
      ],
      "execution_count": 0,
      "outputs": []
    },
    {
      "cell_type": "code",
      "metadata": {
        "id": "hi0CxJlO2blP",
        "colab_type": "code",
        "colab": {}
      },
      "source": [
        "num_train = len(new_df)\n",
        "indices = list(range(num_train))\n",
        "split = int(np.floor(valid_sz * num_train))"
      ],
      "execution_count": 0,
      "outputs": []
    },
    {
      "cell_type": "code",
      "metadata": {
        "id": "zOdbkE7iHVSJ",
        "colab_type": "code",
        "outputId": "9797a971-605f-485a-90ec-adc743664026",
        "colab": {
          "base_uri": "https://localhost:8080/",
          "height": 34
        }
      },
      "source": [
        "split"
      ],
      "execution_count": 0,
      "outputs": [
        {
          "output_type": "execute_result",
          "data": {
            "text/plain": [
              "200"
            ]
          },
          "metadata": {
            "tags": []
          },
          "execution_count": 37
        }
      ]
    },
    {
      "cell_type": "code",
      "metadata": {
        "id": "Auahy1R-20qD",
        "colab_type": "code",
        "colab": {}
      },
      "source": [
        "shuffle = True\n",
        "\n",
        "if shuffle:\n",
        "  np.random.shuffle(indices)"
      ],
      "execution_count": 0,
      "outputs": []
    },
    {
      "cell_type": "code",
      "metadata": {
        "id": "EWlrFlV821e8",
        "colab_type": "code",
        "colab": {}
      },
      "source": [
        "train_idx, valid_idx= indices[split:], indices[:split]"
      ],
      "execution_count": 0,
      "outputs": []
    },
    {
      "cell_type": "code",
      "metadata": {
        "id": "Tza2JPet32U5",
        "colab_type": "code",
        "colab": {}
      },
      "source": [
        "train_sampler = SubsetRandomSampler(train_idx)\n",
        "valid_sampler = SubsetRandomSampler(valid_idx)"
      ],
      "execution_count": 0,
      "outputs": []
    },
    {
      "cell_type": "code",
      "metadata": {
        "id": "GmW2gm6e39pG",
        "colab_type": "code",
        "colab": {}
      },
      "source": [
        "bs = 20"
      ],
      "execution_count": 0,
      "outputs": []
    },
    {
      "cell_type": "code",
      "metadata": {
        "id": "jEp89vaj3W9E",
        "colab_type": "code",
        "colab": {}
      },
      "source": [
        "train_dl = DataLoader(ques,batch_size=bs, sampler=train_sampler)\n",
        "valid_dl = DataLoader(ques,batch_size=bs, sampler=valid_sampler)"
      ],
      "execution_count": 0,
      "outputs": []
    },
    {
      "cell_type": "code",
      "metadata": {
        "id": "mECqnNanCj7W",
        "colab_type": "code",
        "colab": {}
      },
      "source": [
        "(x1, x2), y = next(iter(train_dl))"
      ],
      "execution_count": 0,
      "outputs": []
    },
    {
      "cell_type": "code",
      "metadata": {
        "id": "W7cT1EPECj37",
        "colab_type": "code",
        "outputId": "e367b3eb-9eb3-43a6-b774-321c903e1242",
        "colab": {
          "base_uri": "https://localhost:8080/",
          "height": 34
        }
      },
      "source": [
        "x1.shape"
      ],
      "execution_count": 0,
      "outputs": [
        {
          "output_type": "execute_result",
          "data": {
            "text/plain": [
              "torch.Size([20, 68])"
            ]
          },
          "metadata": {
            "tags": []
          },
          "execution_count": 44
        }
      ]
    },
    {
      "cell_type": "code",
      "metadata": {
        "id": "I3lJBWXFUZl9",
        "colab_type": "code",
        "colab": {}
      },
      "source": [
        "from torchtext import vocab"
      ],
      "execution_count": 0,
      "outputs": []
    },
    {
      "cell_type": "code",
      "metadata": {
        "id": "SHuut38nUa2V",
        "colab_type": "code",
        "outputId": "bcdfc911-bcfe-45e5-922f-5389f94b6ab3",
        "colab": {
          "base_uri": "https://localhost:8080/",
          "height": 50
        }
      },
      "source": [
        "golve = vocab.GloVe(name='6B', dim=300)"
      ],
      "execution_count": 0,
      "outputs": [
        {
          "output_type": "stream",
          "text": [
            ".vector_cache/glove.6B.zip: 862MB [06:28, 2.22MB/s]                          \n",
            "100%|█████████▉| 399448/400000 [00:36<00:00, 10919.48it/s]"
          ],
          "name": "stderr"
        }
      ]
    },
    {
      "cell_type": "code",
      "metadata": {
        "id": "eorxgKcCdzXP",
        "colab_type": "code",
        "colab": {}
      },
      "source": [
        "weights_matrix = np.zeros((matrix_len, 50))\n",
        "words_found = 0\n",
        "\n",
        "for i, word in enumerate(target_vocab):\n",
        "    try: \n",
        "        weights_matrix[i] = glove[word]\n",
        "        words_found += 1\n",
        "    except KeyError:\n",
        "        weights_matrix[i] = np.random.normal(scale=0.6, size=(emb_dim, ))"
      ],
      "execution_count": 0,
      "outputs": []
    },
    {
      "cell_type": "code",
      "metadata": {
        "id": "obw7KctPeh7G",
        "colab_type": "code",
        "outputId": "b73068e3-8ded-4a86-c0af-6fc927d55487",
        "colab": {
          "base_uri": "https://localhost:8080/",
          "height": 34
        }
      },
      "source": [
        "word.n_words"
      ],
      "execution_count": 0,
      "outputs": [
        {
          "output_type": "execute_result",
          "data": {
            "text/plain": [
              "6285"
            ]
          },
          "metadata": {
            "tags": []
          },
          "execution_count": 58
        }
      ]
    },
    {
      "cell_type": "code",
      "metadata": {
        "id": "zjhgmUaOcRsa",
        "colab_type": "code",
        "colab": {}
      },
      "source": [
        "weights_matrix = np.zeros((word.n_words, 300))\n",
        "words_found = 0\n",
        "\n",
        "for i , wd in enumerate(list(word.word2index.keys())):\n",
        "  try:\n",
        "    weights_matrix[i] = golve[wd]\n",
        "    words_found +=1\n",
        "  except KeyError:\n",
        "    weights_matrix[i] = np.random.normal(scale=0.6, size=(300, ))"
      ],
      "execution_count": 0,
      "outputs": []
    },
    {
      "cell_type": "code",
      "metadata": {
        "id": "jqG4ELlHfqxu",
        "colab_type": "code",
        "colab": {}
      },
      "source": [
        "weights_matrix = torch.from_numpy(weight_matrix).float()"
      ],
      "execution_count": 0,
      "outputs": []
    },
    {
      "cell_type": "code",
      "metadata": {
        "id": "3i7T0GkzfubQ",
        "colab_type": "code",
        "colab": {}
      },
      "source": [
        "def create_emb_layer(weights_matrix, non_trainable=False):\n",
        "    num_embeddings, embedding_dim = weights_matrix.shape\n",
        "    emb_layer = nn.Embedding(num_embeddings, embedding_dim)\n",
        "    emb_layer.load_state_dict({'weight': weights_matrix})\n",
        "    if non_trainable:\n",
        "        emb_layer.weight.requires_grad = False\n",
        "\n",
        "    return emb_layer, num_embeddings, embedding_dim"
      ],
      "execution_count": 0,
      "outputs": []
    },
    {
      "cell_type": "code",
      "metadata": {
        "id": "qXD2KERg1aYH",
        "colab_type": "code",
        "colab": {}
      },
      "source": [
        "import torch.nn.functional as F\n",
        "from torch import nn"
      ],
      "execution_count": 0,
      "outputs": []
    },
    {
      "cell_type": "code",
      "metadata": {
        "id": "-fl-3xz7CjyF",
        "colab_type": "code",
        "colab": {}
      },
      "source": [
        "class MVLSTM(nn.Module):\n",
        "\n",
        "  def __init__(self,weights_matrix, hidden_dim,hid_out, Max_length, n_class,topk=10):\n",
        "\n",
        "    super().__init__()\n",
        "\n",
        "    self.embed, _, embed_dim = create_emb_layer(weights_matrix)\n",
        "\n",
        "    self.bilstm1 = nn.LSTM(embed_dim,hidden_dim, batch_first=True, bidirectional=True)\n",
        "    self.bilstm2 = nn.LSTM(embed_dim,hidden_dim, batch_first=True, bidirectional=True)\n",
        "\n",
        "    self.linear = nn.Linear(Max_length * topk, hid_out)\n",
        "    self.linear2 = nn.Linear(hid_out, n_class)\n",
        "\n",
        "    self.max_length = Max_length\n",
        "    self.topk = topk\n",
        "\n",
        "  def forward(self,x1,x2):\n",
        "\n",
        "    embed1 = self.embed(x1)\n",
        "    embed2 = self.embed(x2)\n",
        "\n",
        "    q1, _ = self.bilstm1(embed1)\n",
        "    q2, _ = self.bilstm2(embed2)\n",
        "\n",
        "    q2 = q2.permute(0,2,1)\n",
        "\n",
        "    dot = torch.bmm(q1,q2)\n",
        "\n",
        "    topk = dot.topk(self.topk).values.view(x1.shape[0], -1)\n",
        "\n",
        "    lin = F.relu(self.linear(topk))\n",
        "    output = self.linear2(lin)\n",
        "\n",
        "    return output"
      ],
      "execution_count": 0,
      "outputs": []
    },
    {
      "cell_type": "code",
      "metadata": {
        "id": "fzCsfZpFCjuN",
        "colab_type": "code",
        "colab": {}
      },
      "source": [
        "cv = MVLSTM(weights_matrix,256,20,MAX_LENGTH,2)"
      ],
      "execution_count": 0,
      "outputs": []
    },
    {
      "cell_type": "code",
      "metadata": {
        "id": "sBOmMRUkCjrS",
        "colab_type": "code",
        "colab": {}
      },
      "source": [
        "p = cv(x1,x2)"
      ],
      "execution_count": 0,
      "outputs": []
    },
    {
      "cell_type": "code",
      "metadata": {
        "id": "Y10QnryzCjmi",
        "colab_type": "code",
        "outputId": "43eb897d-bf68-4b48-80ab-282b2d98997c",
        "colab": {
          "base_uri": "https://localhost:8080/",
          "height": 34
        }
      },
      "source": [
        "p.shape"
      ],
      "execution_count": 0,
      "outputs": [
        {
          "output_type": "execute_result",
          "data": {
            "text/plain": [
              "torch.Size([20, 2])"
            ]
          },
          "metadata": {
            "tags": []
          },
          "execution_count": 99
        }
      ]
    },
    {
      "cell_type": "code",
      "metadata": {
        "id": "bBVRXVZqCjfL",
        "colab_type": "code",
        "colab": {}
      },
      "source": [
        "torch.optim."
      ],
      "execution_count": 0,
      "outputs": []
    },
    {
      "cell_type": "code",
      "metadata": {
        "colab_type": "code",
        "id": "o_9g3pTSitnZ",
        "colab": {}
      },
      "source": [
        "lr = 0.1\n",
        "\n",
        "criterion = nn.CrossEntropyLoss()\n",
        "optimizer = torch.optim.Adam(cv.parameters(), lr=lr)"
      ],
      "execution_count": 0,
      "outputs": []
    },
    {
      "cell_type": "code",
      "metadata": {
        "colab_type": "code",
        "id": "dKW6K6dQitnf",
        "colab": {}
      },
      "source": [
        "batch_size=20"
      ],
      "execution_count": 0,
      "outputs": []
    },
    {
      "cell_type": "code",
      "metadata": {
        "id": "gw5xWPEdCjce",
        "colab_type": "code",
        "outputId": "25ff2c69-6a2b-4ccc-b00e-0bcc1f2c7585",
        "colab": {
          "base_uri": "https://localhost:8080/",
          "height": 655
        }
      },
      "source": [
        "epochs = 20\n",
        "\n",
        "counter = 0\n",
        "print_every = 100\n",
        "clip = 2.5\n",
        "\n",
        "cv.cuda()\n",
        "\n",
        "cv.train()\n",
        "\n",
        "train_on_gpu = True\n",
        "\n",
        "for e in range(epochs):\n",
        "\n",
        "    print(f\"Epoch {e} begins\")\n",
        "    # batch loop\n",
        "    for inputs, labels in train_dl:\n",
        "        counter += 1\n",
        "\n",
        "        if(train_on_gpu):\n",
        "            inp1, inp2, labels = inputs[0].cuda(),inputs[1].cuda(), labels.cuda()\n",
        "\n",
        "        # zero accumulated gradients\n",
        "        optimizer.zero_grad()\n",
        "\n",
        "\n",
        "        # get the output from the model\n",
        "        output= cv(inp1,inp2)\n",
        "        # print(\"train output\",output[0])\n",
        "        # calculate the loss and perform backprop\n",
        "        # print(labels,output.shape)\n",
        "        loss = criterion(output, labels.long())\n",
        "        loss.backward()\n",
        "        # `clip_grad_norm` helps prevent the exploding gradient problem in RNNs / LSTMs.\n",
        "        nn.utils.clip_grad_norm_(cv.parameters(), clip)\n",
        "        optimizer.step()\n",
        "\n",
        "        # loss stats\n",
        "        if counter % print_every == 0:\n",
        "            # Get validation loss\n",
        "            val_losses = []\n",
        "            cv.eval()\n",
        "            for inputs, labels in valid_dl:\n",
        "\n",
        "                if(train_on_gpu):\n",
        "                    inp1, inp2, labels = inputs[0].cuda(),inputs[1].cuda(), labels.cuda()\n",
        "              \n",
        "                output= cv(inp1,inp2)\n",
        "                # print(\"validation output\",output)\n",
        "                val_loss = criterion(output, labels.long())\n",
        "\n",
        "                val_losses.append(val_loss.item())\n",
        "\n",
        "            cv.train()\n",
        "            print(\"Epoch: {}/{}...\".format(e+1, epochs),\n",
        "                  \"Step: {}...\".format(counter),\n",
        "                  \"Loss: {:.6f}...\".format(loss.item()),\n",
        "                  \"Val Loss: {:.6f}\".format(np.mean(val_losses)))"
      ],
      "execution_count": 0,
      "outputs": [
        {
          "output_type": "stream",
          "text": [
            "Epoch 0 begins\n",
            "Epoch 1 begins\n",
            "Epoch: 2/20... Step: 100... Loss: 0.642891... Val Loss: 0.659608\n",
            "Epoch 2 begins\n",
            "Epoch: 3/20... Step: 200... Loss: 0.571375... Val Loss: 0.650537\n",
            "Epoch 3 begins\n",
            "Epoch: 4/20... Step: 300... Loss: 0.539332... Val Loss: 0.656195\n",
            "Epoch 4 begins\n",
            "Epoch: 5/20... Step: 400... Loss: 0.627502... Val Loss: 0.652030\n",
            "Epoch 5 begins\n",
            "Epoch: 6/20... Step: 500... Loss: 0.659280... Val Loss: 0.664409\n",
            "Epoch 6 begins\n",
            "Epoch: 7/20... Step: 600... Loss: 0.647753... Val Loss: 0.650625\n",
            "Epoch 7 begins\n",
            "Epoch: 8/20... Step: 700... Loss: 0.631781... Val Loss: 0.662258\n",
            "Epoch 8 begins\n",
            "Epoch: 9/20... Step: 800... Loss: 0.858816... Val Loss: 0.651047\n",
            "Epoch 9 begins\n",
            "Epoch: 10/20... Step: 900... Loss: 0.675997... Val Loss: 0.651479\n",
            "Epoch 10 begins\n",
            "Epoch 11 begins\n",
            "Epoch: 12/20... Step: 1000... Loss: 0.647846... Val Loss: 0.656586\n",
            "Epoch 12 begins\n",
            "Epoch: 13/20... Step: 1100... Loss: 0.649909... Val Loss: 0.652999\n",
            "Epoch 13 begins\n",
            "Epoch: 14/20... Step: 1200... Loss: 0.649927... Val Loss: 0.655502\n",
            "Epoch 14 begins\n",
            "Epoch: 15/20... Step: 1300... Loss: 0.650268... Val Loss: 0.652568\n",
            "Epoch 15 begins\n",
            "Epoch: 16/20... Step: 1400... Loss: 0.673854... Val Loss: 0.652745\n",
            "Epoch 16 begins\n",
            "Epoch: 17/20... Step: 1500... Loss: 0.703328... Val Loss: 0.650633\n",
            "Epoch 17 begins\n",
            "Epoch: 18/20... Step: 1600... Loss: 0.647644... Val Loss: 0.650663\n",
            "Epoch 18 begins\n",
            "Epoch: 19/20... Step: 1700... Loss: 0.618886... Val Loss: 0.654127\n",
            "Epoch 19 begins\n",
            "Epoch: 20/20... Step: 1800... Loss: 0.693604... Val Loss: 0.654733\n"
          ],
          "name": "stdout"
        }
      ]
    },
    {
      "cell_type": "code",
      "metadata": {
        "id": "nmAiIaGKCjXf",
        "colab_type": "code",
        "colab": {}
      },
      "source": [
        ""
      ],
      "execution_count": 0,
      "outputs": []
    }
  ]
}